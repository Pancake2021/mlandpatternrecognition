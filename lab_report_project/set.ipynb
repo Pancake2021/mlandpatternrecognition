{
 "cells": [
  {
   "cell_type": "code",
   "execution_count": null,
   "id": "5da982cf",
   "metadata": {
    "vscode": {
     "languageId": "plaintext"
    }
   },
   "outputs": [],
   "source": []
  },
  {
   "cell_type": "code",
   "execution_count": null,
   "id": "712ee8c4",
   "metadata": {
    "vscode": {
     "languageId": "plaintext"
    }
   },
   "outputs": [],
   "source": [
    "!conda create -n lab1 python=3.10\n",
    "!conda activate lab1\n",
    "!pip install numpy\n"
   ]
  }
 ],
 "metadata": {
  "language_info": {
   "name": "python"
  }
 },
 "nbformat": 4,
 "nbformat_minor": 5
}
